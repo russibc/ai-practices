{
  "nbformat": 4,
  "nbformat_minor": 0,
  "metadata": {
    "colab": {
      "provenance": [],
      "collapsed_sections": []
    },
    "kernelspec": {
      "name": "python3",
      "display_name": "Python 3"
    },
    "language_info": {
      "name": "python"
    }
  },
  "cells": [
    {
      "cell_type": "code",
      "metadata": {
        "id": "cKYMrg1_FpW_",
        "cellView": "form"
      },
      "source": [
        "#@title\n",
        "%%capture\n",
        "!rm -rf *\n",
        "!gdown 19b7ixRt9TU3Kb7r8NwiJ9UaK7Z34-9eH -O e03_ok.zip\n",
        "!cd /content\n",
        "!unzip e03_ok.zip\n",
        "!pip install git+https://github.com/grading/gradememaybe.git\n",
        "\n",
        "from IPython.display import YouTubeVideo\n",
        "from gofer import ok"
      ],
      "execution_count": null,
      "outputs": []
    },
    {
      "cell_type": "markdown",
      "metadata": {
        "id": "F9uRXrRQCPUT"
      },
      "source": [
        "# 1 Upload do Arquivo\n",
        "\n",
        "Use o espaço abaixo para fazer o upload do arquivo para o ambiente do Google Colab. Para isso você pode usar o comando `gdown` (lembre-se de colocar o sinal de exclamação `!` para chamar comandos na linha de comando, fora do Python)."
      ]
    },
    {
      "cell_type": "code",
      "metadata": {
        "id": "1_gkoGa0B2qK",
        "colab": {
          "base_uri": "https://localhost:8080/",
          "height": 229
        },
        "outputId": "4dbfb566-80f5-4e41-c8a5-7668c230277c"
      },
      "source": [
        "from google.colab import files\n",
        "import io\n",
        "\n",
        "uploaded = files.upload()\n",
        "f = io.BytesIO(uploaded['Iris.csv'])"
      ],
      "execution_count": null,
      "outputs": [
        {
          "output_type": "display_data",
          "data": {
            "text/plain": [
              "<IPython.core.display.HTML object>"
            ],
            "text/html": [
              "\n",
              "     <input type=\"file\" id=\"files-9f6e62db-4510-4554-87cb-33f41e4e01f3\" name=\"files[]\" multiple disabled\n",
              "        style=\"border:none\" />\n",
              "     <output id=\"result-9f6e62db-4510-4554-87cb-33f41e4e01f3\">\n",
              "      Upload widget is only available when the cell has been executed in the\n",
              "      current browser session. Please rerun this cell to enable.\n",
              "      </output>\n",
              "      <script>// Copyright 2017 Google LLC\n",
              "//\n",
              "// Licensed under the Apache License, Version 2.0 (the \"License\");\n",
              "// you may not use this file except in compliance with the License.\n",
              "// You may obtain a copy of the License at\n",
              "//\n",
              "//      http://www.apache.org/licenses/LICENSE-2.0\n",
              "//\n",
              "// Unless required by applicable law or agreed to in writing, software\n",
              "// distributed under the License is distributed on an \"AS IS\" BASIS,\n",
              "// WITHOUT WARRANTIES OR CONDITIONS OF ANY KIND, either express or implied.\n",
              "// See the License for the specific language governing permissions and\n",
              "// limitations under the License.\n",
              "\n",
              "/**\n",
              " * @fileoverview Helpers for google.colab Python module.\n",
              " */\n",
              "(function(scope) {\n",
              "function span(text, styleAttributes = {}) {\n",
              "  const element = document.createElement('span');\n",
              "  element.textContent = text;\n",
              "  for (const key of Object.keys(styleAttributes)) {\n",
              "    element.style[key] = styleAttributes[key];\n",
              "  }\n",
              "  return element;\n",
              "}\n",
              "\n",
              "// Max number of bytes which will be uploaded at a time.\n",
              "const MAX_PAYLOAD_SIZE = 100 * 1024;\n",
              "\n",
              "function _uploadFiles(inputId, outputId) {\n",
              "  const steps = uploadFilesStep(inputId, outputId);\n",
              "  const outputElement = document.getElementById(outputId);\n",
              "  // Cache steps on the outputElement to make it available for the next call\n",
              "  // to uploadFilesContinue from Python.\n",
              "  outputElement.steps = steps;\n",
              "\n",
              "  return _uploadFilesContinue(outputId);\n",
              "}\n",
              "\n",
              "// This is roughly an async generator (not supported in the browser yet),\n",
              "// where there are multiple asynchronous steps and the Python side is going\n",
              "// to poll for completion of each step.\n",
              "// This uses a Promise to block the python side on completion of each step,\n",
              "// then passes the result of the previous step as the input to the next step.\n",
              "function _uploadFilesContinue(outputId) {\n",
              "  const outputElement = document.getElementById(outputId);\n",
              "  const steps = outputElement.steps;\n",
              "\n",
              "  const next = steps.next(outputElement.lastPromiseValue);\n",
              "  return Promise.resolve(next.value.promise).then((value) => {\n",
              "    // Cache the last promise value to make it available to the next\n",
              "    // step of the generator.\n",
              "    outputElement.lastPromiseValue = value;\n",
              "    return next.value.response;\n",
              "  });\n",
              "}\n",
              "\n",
              "/**\n",
              " * Generator function which is called between each async step of the upload\n",
              " * process.\n",
              " * @param {string} inputId Element ID of the input file picker element.\n",
              " * @param {string} outputId Element ID of the output display.\n",
              " * @return {!Iterable<!Object>} Iterable of next steps.\n",
              " */\n",
              "function* uploadFilesStep(inputId, outputId) {\n",
              "  const inputElement = document.getElementById(inputId);\n",
              "  inputElement.disabled = false;\n",
              "\n",
              "  const outputElement = document.getElementById(outputId);\n",
              "  outputElement.innerHTML = '';\n",
              "\n",
              "  const pickedPromise = new Promise((resolve) => {\n",
              "    inputElement.addEventListener('change', (e) => {\n",
              "      resolve(e.target.files);\n",
              "    });\n",
              "  });\n",
              "\n",
              "  const cancel = document.createElement('button');\n",
              "  inputElement.parentElement.appendChild(cancel);\n",
              "  cancel.textContent = 'Cancel upload';\n",
              "  const cancelPromise = new Promise((resolve) => {\n",
              "    cancel.onclick = () => {\n",
              "      resolve(null);\n",
              "    };\n",
              "  });\n",
              "\n",
              "  // Wait for the user to pick the files.\n",
              "  const files = yield {\n",
              "    promise: Promise.race([pickedPromise, cancelPromise]),\n",
              "    response: {\n",
              "      action: 'starting',\n",
              "    }\n",
              "  };\n",
              "\n",
              "  cancel.remove();\n",
              "\n",
              "  // Disable the input element since further picks are not allowed.\n",
              "  inputElement.disabled = true;\n",
              "\n",
              "  if (!files) {\n",
              "    return {\n",
              "      response: {\n",
              "        action: 'complete',\n",
              "      }\n",
              "    };\n",
              "  }\n",
              "\n",
              "  for (const file of files) {\n",
              "    const li = document.createElement('li');\n",
              "    li.append(span(file.name, {fontWeight: 'bold'}));\n",
              "    li.append(span(\n",
              "        `(${file.type || 'n/a'}) - ${file.size} bytes, ` +\n",
              "        `last modified: ${\n",
              "            file.lastModifiedDate ? file.lastModifiedDate.toLocaleDateString() :\n",
              "                                    'n/a'} - `));\n",
              "    const percent = span('0% done');\n",
              "    li.appendChild(percent);\n",
              "\n",
              "    outputElement.appendChild(li);\n",
              "\n",
              "    const fileDataPromise = new Promise((resolve) => {\n",
              "      const reader = new FileReader();\n",
              "      reader.onload = (e) => {\n",
              "        resolve(e.target.result);\n",
              "      };\n",
              "      reader.readAsArrayBuffer(file);\n",
              "    });\n",
              "    // Wait for the data to be ready.\n",
              "    let fileData = yield {\n",
              "      promise: fileDataPromise,\n",
              "      response: {\n",
              "        action: 'continue',\n",
              "      }\n",
              "    };\n",
              "\n",
              "    // Use a chunked sending to avoid message size limits. See b/62115660.\n",
              "    let position = 0;\n",
              "    do {\n",
              "      const length = Math.min(fileData.byteLength - position, MAX_PAYLOAD_SIZE);\n",
              "      const chunk = new Uint8Array(fileData, position, length);\n",
              "      position += length;\n",
              "\n",
              "      const base64 = btoa(String.fromCharCode.apply(null, chunk));\n",
              "      yield {\n",
              "        response: {\n",
              "          action: 'append',\n",
              "          file: file.name,\n",
              "          data: base64,\n",
              "        },\n",
              "      };\n",
              "\n",
              "      let percentDone = fileData.byteLength === 0 ?\n",
              "          100 :\n",
              "          Math.round((position / fileData.byteLength) * 100);\n",
              "      percent.textContent = `${percentDone}% done`;\n",
              "\n",
              "    } while (position < fileData.byteLength);\n",
              "  }\n",
              "\n",
              "  // All done.\n",
              "  yield {\n",
              "    response: {\n",
              "      action: 'complete',\n",
              "    }\n",
              "  };\n",
              "}\n",
              "\n",
              "scope.google = scope.google || {};\n",
              "scope.google.colab = scope.google.colab || {};\n",
              "scope.google.colab._files = {\n",
              "  _uploadFiles,\n",
              "  _uploadFilesContinue,\n",
              "};\n",
              "})(self);\n",
              "</script> "
            ]
          },
          "metadata": {}
        },
        {
          "output_type": "error",
          "ename": "KeyError",
          "evalue": "ignored",
          "traceback": [
            "\u001b[0;31m---------------------------------------------------------------------------\u001b[0m",
            "\u001b[0;31mKeyError\u001b[0m                                  Traceback (most recent call last)",
            "\u001b[0;32m<ipython-input-3-36ac411c0a43>\u001b[0m in \u001b[0;36m<module>\u001b[0;34m\u001b[0m\n\u001b[1;32m      3\u001b[0m \u001b[0;34m\u001b[0m\u001b[0m\n\u001b[1;32m      4\u001b[0m \u001b[0muploaded\u001b[0m \u001b[0;34m=\u001b[0m \u001b[0mfiles\u001b[0m\u001b[0;34m.\u001b[0m\u001b[0mupload\u001b[0m\u001b[0;34m(\u001b[0m\u001b[0;34m)\u001b[0m\u001b[0;34m\u001b[0m\u001b[0;34m\u001b[0m\u001b[0m\n\u001b[0;32m----> 5\u001b[0;31m \u001b[0mf\u001b[0m \u001b[0;34m=\u001b[0m \u001b[0mio\u001b[0m\u001b[0;34m.\u001b[0m\u001b[0mBytesIO\u001b[0m\u001b[0;34m(\u001b[0m\u001b[0muploaded\u001b[0m\u001b[0;34m[\u001b[0m\u001b[0;34m'Iris.csv'\u001b[0m\u001b[0;34m]\u001b[0m\u001b[0;34m)\u001b[0m\u001b[0;34m\u001b[0m\u001b[0;34m\u001b[0m\u001b[0m\n\u001b[0m",
            "\u001b[0;31mKeyError\u001b[0m: 'Iris.csv'"
          ]
        }
      ]
    },
    {
      "cell_type": "code",
      "metadata": {
        "id": "jUnzAmJaF-NA",
        "colab": {
          "base_uri": "https://localhost:8080/",
          "height": 46
        },
        "outputId": "57948493-ac89-4abc-efde-08e4e03b6112"
      },
      "source": [
        "ok.check('e03_1.py')"
      ],
      "execution_count": null,
      "outputs": [
        {
          "output_type": "execute_result",
          "data": {
            "text/plain": [
              "<gofer.ok.OKTestsResult at 0x7f8dec955190>"
            ],
            "text/html": [
              "\n",
              "    \n",
              "    \n",
              "        <p>All tests passed!</p>\n",
              "    \n",
              "    "
            ]
          },
          "metadata": {},
          "execution_count": 43
        }
      ]
    },
    {
      "cell_type": "markdown",
      "metadata": {
        "id": "jLT4YiBZInaI"
      },
      "source": [
        "# 2 Leitura do Arquivo\n",
        "\n",
        "Escreva um laço que leia todas as linhas do arquivo, criando uma lista numa variável de nome 'd0', onde cada elemento da lista é uma string que corresponde a uma linha do arquivo."
      ]
    },
    {
      "cell_type": "code",
      "metadata": {
        "id": "r0ErgTEHJFHa"
      },
      "source": [
        "f.seek(0)\n",
        "lines = f.readlines()\n",
        "d0 = []\n",
        "\n",
        "for line in lines:\n",
        "  d0.append(line.decode())\n",
        "  \n"
      ],
      "execution_count": null,
      "outputs": []
    },
    {
      "cell_type": "code",
      "metadata": {
        "id": "Qc2PA9M5K0Aj",
        "colab": {
          "base_uri": "https://localhost:8080/",
          "height": 46
        },
        "outputId": "4c0cec8c-2128-4fbc-e566-99e007cda25d"
      },
      "source": [
        "ok.check('e03_2.py')"
      ],
      "execution_count": null,
      "outputs": [
        {
          "output_type": "execute_result",
          "data": {
            "text/plain": [
              "<gofer.ok.OKTestsResult at 0x7f8dec97f390>"
            ],
            "text/html": [
              "\n",
              "    \n",
              "    \n",
              "        <p>All tests passed!</p>\n",
              "    \n",
              "    "
            ]
          },
          "metadata": {},
          "execution_count": 45
        }
      ]
    },
    {
      "cell_type": "markdown",
      "metadata": {
        "id": "l484x8LxMIuX"
      },
      "source": [
        "# 3 Remoção de Cabeçalho e Contagem de Linhas\n",
        "\n",
        "Utilizando a mesma variável `d0`, agora remova o cabeçalho (que deve ser o primeiro elemento da lista), e conte as linhas de dados. Grave o total de linhas numa variável de nome `total`."
      ]
    },
    {
      "cell_type": "code",
      "metadata": {
        "id": "wJf05VUmMG8S",
        "colab": {
          "base_uri": "https://localhost:8080/"
        },
        "outputId": "2ebee91a-4b22-47a5-d09b-ccab6b2c5f64"
      },
      "source": [
        "d0.pop(0)\n",
        "\n",
        "total = len(d0)\n",
        "print(total)\n",
        "print(str(d0))"
      ],
      "execution_count": null,
      "outputs": [
        {
          "output_type": "stream",
          "name": "stdout",
          "text": [
            "150\n",
            "['1,5.1,3.5,1.4,0.2,Iris-setosa\\n', '2,4.9,3.0,1.4,0.2,Iris-setosa\\n', '3,4.7,3.2,1.3,0.2,Iris-setosa\\n', '4,4.6,3.1,1.5,0.2,Iris-setosa\\n', '5,5.0,3.6,1.4,0.2,Iris-setosa\\n', '6,5.4,3.9,1.7,0.4,Iris-setosa\\n', '7,4.6,3.4,1.4,0.3,Iris-setosa\\n', '8,5.0,3.4,1.5,0.2,Iris-setosa\\n', '9,4.4,2.9,1.4,0.2,Iris-setosa\\n', '10,4.9,3.1,1.5,0.1,Iris-setosa\\n', '11,5.4,3.7,1.5,0.2,Iris-setosa\\n', '12,4.8,3.4,1.6,0.2,Iris-setosa\\n', '13,4.8,3.0,1.4,0.1,Iris-setosa\\n', '14,4.3,3.0,1.1,0.1,Iris-setosa\\n', '15,5.8,4.0,1.2,0.2,Iris-setosa\\n', '16,5.7,4.4,1.5,0.4,Iris-setosa\\n', '17,5.4,3.9,1.3,0.4,Iris-setosa\\n', '18,5.1,3.5,1.4,0.3,Iris-setosa\\n', '19,5.7,3.8,1.7,0.3,Iris-setosa\\n', '20,5.1,3.8,1.5,0.3,Iris-setosa\\n', '21,5.4,3.4,1.7,0.2,Iris-setosa\\n', '22,5.1,3.7,1.5,0.4,Iris-setosa\\n', '23,4.6,3.6,1.0,0.2,Iris-setosa\\n', '24,5.1,3.3,1.7,0.5,Iris-setosa\\n', '25,4.8,3.4,1.9,0.2,Iris-setosa\\n', '26,5.0,3.0,1.6,0.2,Iris-setosa\\n', '27,5.0,3.4,1.6,0.4,Iris-setosa\\n', '28,5.2,3.5,1.5,0.2,Iris-setosa\\n', '29,5.2,3.4,1.4,0.2,Iris-setosa\\n', '30,4.7,3.2,1.6,0.2,Iris-setosa\\n', '31,4.8,3.1,1.6,0.2,Iris-setosa\\n', '32,5.4,3.4,1.5,0.4,Iris-setosa\\n', '33,5.2,4.1,1.5,0.1,Iris-setosa\\n', '34,5.5,4.2,1.4,0.2,Iris-setosa\\n', '35,4.9,3.1,1.5,0.1,Iris-setosa\\n', '36,5.0,3.2,1.2,0.2,Iris-setosa\\n', '37,5.5,3.5,1.3,0.2,Iris-setosa\\n', '38,4.9,3.1,1.5,0.1,Iris-setosa\\n', '39,4.4,3.0,1.3,0.2,Iris-setosa\\n', '40,5.1,3.4,1.5,0.2,Iris-setosa\\n', '41,5.0,3.5,1.3,0.3,Iris-setosa\\n', '42,4.5,2.3,1.3,0.3,Iris-setosa\\n', '43,4.4,3.2,1.3,0.2,Iris-setosa\\n', '44,5.0,3.5,1.6,0.6,Iris-setosa\\n', '45,5.1,3.8,1.9,0.4,Iris-setosa\\n', '46,4.8,3.0,1.4,0.3,Iris-setosa\\n', '47,5.1,3.8,1.6,0.2,Iris-setosa\\n', '48,4.6,3.2,1.4,0.2,Iris-setosa\\n', '49,5.3,3.7,1.5,0.2,Iris-setosa\\n', '50,5.0,3.3,1.4,0.2,Iris-setosa\\n', '51,7.0,3.2,4.7,1.4,Iris-versicolor\\n', '52,6.4,3.2,4.5,1.5,Iris-versicolor\\n', '53,6.9,3.1,4.9,1.5,Iris-versicolor\\n', '54,5.5,2.3,4.0,1.3,Iris-versicolor\\n', '55,6.5,2.8,4.6,1.5,Iris-versicolor\\n', '56,5.7,2.8,4.5,1.3,Iris-versicolor\\n', '57,6.3,3.3,4.7,1.6,Iris-versicolor\\n', '58,4.9,2.4,3.3,1.0,Iris-versicolor\\n', '59,6.6,2.9,4.6,1.3,Iris-versicolor\\n', '60,5.2,2.7,3.9,1.4,Iris-versicolor\\n', '61,5.0,2.0,3.5,1.0,Iris-versicolor\\n', '62,5.9,3.0,4.2,1.5,Iris-versicolor\\n', '63,6.0,2.2,4.0,1.0,Iris-versicolor\\n', '64,6.1,2.9,4.7,1.4,Iris-versicolor\\n', '65,5.6,2.9,3.6,1.3,Iris-versicolor\\n', '66,6.7,3.1,4.4,1.4,Iris-versicolor\\n', '67,5.6,3.0,4.5,1.5,Iris-versicolor\\n', '68,5.8,2.7,4.1,1.0,Iris-versicolor\\n', '69,6.2,2.2,4.5,1.5,Iris-versicolor\\n', '70,5.6,2.5,3.9,1.1,Iris-versicolor\\n', '71,5.9,3.2,4.8,1.8,Iris-versicolor\\n', '72,6.1,2.8,4.0,1.3,Iris-versicolor\\n', '73,6.3,2.5,4.9,1.5,Iris-versicolor\\n', '74,6.1,2.8,4.7,1.2,Iris-versicolor\\n', '75,6.4,2.9,4.3,1.3,Iris-versicolor\\n', '76,6.6,3.0,4.4,1.4,Iris-versicolor\\n', '77,6.8,2.8,4.8,1.4,Iris-versicolor\\n', '78,6.7,3.0,5.0,1.7,Iris-versicolor\\n', '79,6.0,2.9,4.5,1.5,Iris-versicolor\\n', '80,5.7,2.6,3.5,1.0,Iris-versicolor\\n', '81,5.5,2.4,3.8,1.1,Iris-versicolor\\n', '82,5.5,2.4,3.7,1.0,Iris-versicolor\\n', '83,5.8,2.7,3.9,1.2,Iris-versicolor\\n', '84,6.0,2.7,5.1,1.6,Iris-versicolor\\n', '85,5.4,3.0,4.5,1.5,Iris-versicolor\\n', '86,6.0,3.4,4.5,1.6,Iris-versicolor\\n', '87,6.7,3.1,4.7,1.5,Iris-versicolor\\n', '88,6.3,2.3,4.4,1.3,Iris-versicolor\\n', '89,5.6,3.0,4.1,1.3,Iris-versicolor\\n', '90,5.5,2.5,4.0,1.3,Iris-versicolor\\n', '91,5.5,2.6,4.4,1.2,Iris-versicolor\\n', '92,6.1,3.0,4.6,1.4,Iris-versicolor\\n', '93,5.8,2.6,4.0,1.2,Iris-versicolor\\n', '94,5.0,2.3,3.3,1.0,Iris-versicolor\\n', '95,5.6,2.7,4.2,1.3,Iris-versicolor\\n', '96,5.7,3.0,4.2,1.2,Iris-versicolor\\n', '97,5.7,2.9,4.2,1.3,Iris-versicolor\\n', '98,6.2,2.9,4.3,1.3,Iris-versicolor\\n', '99,5.1,2.5,3.0,1.1,Iris-versicolor\\n', '100,5.7,2.8,4.1,1.3,Iris-versicolor\\n', '101,6.3,3.3,6.0,2.5,Iris-virginica\\n', '102,5.8,2.7,5.1,1.9,Iris-virginica\\n', '103,7.1,3.0,5.9,2.1,Iris-virginica\\n', '104,6.3,2.9,5.6,1.8,Iris-virginica\\n', '105,6.5,3.0,5.8,2.2,Iris-virginica\\n', '106,7.6,3.0,6.6,2.1,Iris-virginica\\n', '107,4.9,2.5,4.5,1.7,Iris-virginica\\n', '108,7.3,2.9,6.3,1.8,Iris-virginica\\n', '109,6.7,2.5,5.8,1.8,Iris-virginica\\n', '110,7.2,3.6,6.1,2.5,Iris-virginica\\n', '111,6.5,3.2,5.1,2.0,Iris-virginica\\n', '112,6.4,2.7,5.3,1.9,Iris-virginica\\n', '113,6.8,3.0,5.5,2.1,Iris-virginica\\n', '114,5.7,2.5,5.0,2.0,Iris-virginica\\n', '115,5.8,2.8,5.1,2.4,Iris-virginica\\n', '116,6.4,3.2,5.3,2.3,Iris-virginica\\n', '117,6.5,3.0,5.5,1.8,Iris-virginica\\n', '118,7.7,3.8,6.7,2.2,Iris-virginica\\n', '119,7.7,2.6,6.9,2.3,Iris-virginica\\n', '120,6.0,2.2,5.0,1.5,Iris-virginica\\n', '121,6.9,3.2,5.7,2.3,Iris-virginica\\n', '122,5.6,2.8,4.9,2.0,Iris-virginica\\n', '123,7.7,2.8,6.7,2.0,Iris-virginica\\n', '124,6.3,2.7,4.9,1.8,Iris-virginica\\n', '125,6.7,3.3,5.7,2.1,Iris-virginica\\n', '126,7.2,3.2,6.0,1.8,Iris-virginica\\n', '127,6.2,2.8,4.8,1.8,Iris-virginica\\n', '128,6.1,3.0,4.9,1.8,Iris-virginica\\n', '129,6.4,2.8,5.6,2.1,Iris-virginica\\n', '130,7.2,3.0,5.8,1.6,Iris-virginica\\n', '131,7.4,2.8,6.1,1.9,Iris-virginica\\n', '132,7.9,3.8,6.4,2.0,Iris-virginica\\n', '133,6.4,2.8,5.6,2.2,Iris-virginica\\n', '134,6.3,2.8,5.1,1.5,Iris-virginica\\n', '135,6.1,2.6,5.6,1.4,Iris-virginica\\n', '136,7.7,3.0,6.1,2.3,Iris-virginica\\n', '137,6.3,3.4,5.6,2.4,Iris-virginica\\n', '138,6.4,3.1,5.5,1.8,Iris-virginica\\n', '139,6.0,3.0,4.8,1.8,Iris-virginica\\n', '140,6.9,3.1,5.4,2.1,Iris-virginica\\n', '141,6.7,3.1,5.6,2.4,Iris-virginica\\n', '142,6.9,3.1,5.1,2.3,Iris-virginica\\n', '143,5.8,2.7,5.1,1.9,Iris-virginica\\n', '144,6.8,3.2,5.9,2.3,Iris-virginica\\n', '145,6.7,3.3,5.7,2.5,Iris-virginica\\n', '146,6.7,3.0,5.2,2.3,Iris-virginica\\n', '147,6.3,2.5,5.0,1.9,Iris-virginica\\n', '148,6.5,3.0,5.2,2.0,Iris-virginica\\n', '149,6.2,3.4,5.4,2.3,Iris-virginica\\n', '150,5.9,3.0,5.1,1.8,Iris-virginica\\n']\n"
          ]
        }
      ]
    },
    {
      "cell_type": "code",
      "metadata": {
        "id": "enzMyPuXNStY",
        "colab": {
          "base_uri": "https://localhost:8080/",
          "height": 46
        },
        "outputId": "c0cf08b6-feea-4448-947c-607fd10445dc"
      },
      "source": [
        "ok.check('e03_3.py')"
      ],
      "execution_count": null,
      "outputs": [
        {
          "output_type": "execute_result",
          "data": {
            "text/plain": [
              "<gofer.ok.OKTestsResult at 0x7f8dec999f10>"
            ],
            "text/html": [
              "\n",
              "    \n",
              "    \n",
              "        <p>All tests passed!</p>\n",
              "    \n",
              "    "
            ]
          },
          "metadata": {},
          "execution_count": 47
        }
      ]
    },
    {
      "cell_type": "markdown",
      "metadata": {
        "id": "QkryWu5dOa76"
      },
      "source": [
        "# 4 Remoção de Novas Linhas\n",
        "\n",
        "Crie uma nova lista numa variável de nome `d1` onde cada elemento de `d1` corresponda à versão do mesmo elemento em `d0`, removendo o caractere de nova linha `\\n` que aparece ao final de cada item. Assegure-se de que cada elemento da lista `d1` seja uma string simples (dependendo como você fez o upload, pode acontecer dos elementos estarem codificados, então decodifique caso necessário)."
      ]
    },
    {
      "cell_type": "code",
      "metadata": {
        "id": "7Chnp2TNOxH8",
        "colab": {
          "base_uri": "https://localhost:8080/"
        },
        "outputId": "e5f4c3d3-cf5c-47f6-e2bd-897df9216613"
      },
      "source": [
        "d1 = []\n",
        "for line in d0:\n",
        "  d1.append(line[0:-1])\n",
        "\n",
        "print(str(d1))"
      ],
      "execution_count": null,
      "outputs": [
        {
          "output_type": "stream",
          "name": "stdout",
          "text": [
            "['1,5.1,3.5,1.4,0.2,Iris-setosa', '2,4.9,3.0,1.4,0.2,Iris-setosa', '3,4.7,3.2,1.3,0.2,Iris-setosa', '4,4.6,3.1,1.5,0.2,Iris-setosa', '5,5.0,3.6,1.4,0.2,Iris-setosa', '6,5.4,3.9,1.7,0.4,Iris-setosa', '7,4.6,3.4,1.4,0.3,Iris-setosa', '8,5.0,3.4,1.5,0.2,Iris-setosa', '9,4.4,2.9,1.4,0.2,Iris-setosa', '10,4.9,3.1,1.5,0.1,Iris-setosa', '11,5.4,3.7,1.5,0.2,Iris-setosa', '12,4.8,3.4,1.6,0.2,Iris-setosa', '13,4.8,3.0,1.4,0.1,Iris-setosa', '14,4.3,3.0,1.1,0.1,Iris-setosa', '15,5.8,4.0,1.2,0.2,Iris-setosa', '16,5.7,4.4,1.5,0.4,Iris-setosa', '17,5.4,3.9,1.3,0.4,Iris-setosa', '18,5.1,3.5,1.4,0.3,Iris-setosa', '19,5.7,3.8,1.7,0.3,Iris-setosa', '20,5.1,3.8,1.5,0.3,Iris-setosa', '21,5.4,3.4,1.7,0.2,Iris-setosa', '22,5.1,3.7,1.5,0.4,Iris-setosa', '23,4.6,3.6,1.0,0.2,Iris-setosa', '24,5.1,3.3,1.7,0.5,Iris-setosa', '25,4.8,3.4,1.9,0.2,Iris-setosa', '26,5.0,3.0,1.6,0.2,Iris-setosa', '27,5.0,3.4,1.6,0.4,Iris-setosa', '28,5.2,3.5,1.5,0.2,Iris-setosa', '29,5.2,3.4,1.4,0.2,Iris-setosa', '30,4.7,3.2,1.6,0.2,Iris-setosa', '31,4.8,3.1,1.6,0.2,Iris-setosa', '32,5.4,3.4,1.5,0.4,Iris-setosa', '33,5.2,4.1,1.5,0.1,Iris-setosa', '34,5.5,4.2,1.4,0.2,Iris-setosa', '35,4.9,3.1,1.5,0.1,Iris-setosa', '36,5.0,3.2,1.2,0.2,Iris-setosa', '37,5.5,3.5,1.3,0.2,Iris-setosa', '38,4.9,3.1,1.5,0.1,Iris-setosa', '39,4.4,3.0,1.3,0.2,Iris-setosa', '40,5.1,3.4,1.5,0.2,Iris-setosa', '41,5.0,3.5,1.3,0.3,Iris-setosa', '42,4.5,2.3,1.3,0.3,Iris-setosa', '43,4.4,3.2,1.3,0.2,Iris-setosa', '44,5.0,3.5,1.6,0.6,Iris-setosa', '45,5.1,3.8,1.9,0.4,Iris-setosa', '46,4.8,3.0,1.4,0.3,Iris-setosa', '47,5.1,3.8,1.6,0.2,Iris-setosa', '48,4.6,3.2,1.4,0.2,Iris-setosa', '49,5.3,3.7,1.5,0.2,Iris-setosa', '50,5.0,3.3,1.4,0.2,Iris-setosa', '51,7.0,3.2,4.7,1.4,Iris-versicolor', '52,6.4,3.2,4.5,1.5,Iris-versicolor', '53,6.9,3.1,4.9,1.5,Iris-versicolor', '54,5.5,2.3,4.0,1.3,Iris-versicolor', '55,6.5,2.8,4.6,1.5,Iris-versicolor', '56,5.7,2.8,4.5,1.3,Iris-versicolor', '57,6.3,3.3,4.7,1.6,Iris-versicolor', '58,4.9,2.4,3.3,1.0,Iris-versicolor', '59,6.6,2.9,4.6,1.3,Iris-versicolor', '60,5.2,2.7,3.9,1.4,Iris-versicolor', '61,5.0,2.0,3.5,1.0,Iris-versicolor', '62,5.9,3.0,4.2,1.5,Iris-versicolor', '63,6.0,2.2,4.0,1.0,Iris-versicolor', '64,6.1,2.9,4.7,1.4,Iris-versicolor', '65,5.6,2.9,3.6,1.3,Iris-versicolor', '66,6.7,3.1,4.4,1.4,Iris-versicolor', '67,5.6,3.0,4.5,1.5,Iris-versicolor', '68,5.8,2.7,4.1,1.0,Iris-versicolor', '69,6.2,2.2,4.5,1.5,Iris-versicolor', '70,5.6,2.5,3.9,1.1,Iris-versicolor', '71,5.9,3.2,4.8,1.8,Iris-versicolor', '72,6.1,2.8,4.0,1.3,Iris-versicolor', '73,6.3,2.5,4.9,1.5,Iris-versicolor', '74,6.1,2.8,4.7,1.2,Iris-versicolor', '75,6.4,2.9,4.3,1.3,Iris-versicolor', '76,6.6,3.0,4.4,1.4,Iris-versicolor', '77,6.8,2.8,4.8,1.4,Iris-versicolor', '78,6.7,3.0,5.0,1.7,Iris-versicolor', '79,6.0,2.9,4.5,1.5,Iris-versicolor', '80,5.7,2.6,3.5,1.0,Iris-versicolor', '81,5.5,2.4,3.8,1.1,Iris-versicolor', '82,5.5,2.4,3.7,1.0,Iris-versicolor', '83,5.8,2.7,3.9,1.2,Iris-versicolor', '84,6.0,2.7,5.1,1.6,Iris-versicolor', '85,5.4,3.0,4.5,1.5,Iris-versicolor', '86,6.0,3.4,4.5,1.6,Iris-versicolor', '87,6.7,3.1,4.7,1.5,Iris-versicolor', '88,6.3,2.3,4.4,1.3,Iris-versicolor', '89,5.6,3.0,4.1,1.3,Iris-versicolor', '90,5.5,2.5,4.0,1.3,Iris-versicolor', '91,5.5,2.6,4.4,1.2,Iris-versicolor', '92,6.1,3.0,4.6,1.4,Iris-versicolor', '93,5.8,2.6,4.0,1.2,Iris-versicolor', '94,5.0,2.3,3.3,1.0,Iris-versicolor', '95,5.6,2.7,4.2,1.3,Iris-versicolor', '96,5.7,3.0,4.2,1.2,Iris-versicolor', '97,5.7,2.9,4.2,1.3,Iris-versicolor', '98,6.2,2.9,4.3,1.3,Iris-versicolor', '99,5.1,2.5,3.0,1.1,Iris-versicolor', '100,5.7,2.8,4.1,1.3,Iris-versicolor', '101,6.3,3.3,6.0,2.5,Iris-virginica', '102,5.8,2.7,5.1,1.9,Iris-virginica', '103,7.1,3.0,5.9,2.1,Iris-virginica', '104,6.3,2.9,5.6,1.8,Iris-virginica', '105,6.5,3.0,5.8,2.2,Iris-virginica', '106,7.6,3.0,6.6,2.1,Iris-virginica', '107,4.9,2.5,4.5,1.7,Iris-virginica', '108,7.3,2.9,6.3,1.8,Iris-virginica', '109,6.7,2.5,5.8,1.8,Iris-virginica', '110,7.2,3.6,6.1,2.5,Iris-virginica', '111,6.5,3.2,5.1,2.0,Iris-virginica', '112,6.4,2.7,5.3,1.9,Iris-virginica', '113,6.8,3.0,5.5,2.1,Iris-virginica', '114,5.7,2.5,5.0,2.0,Iris-virginica', '115,5.8,2.8,5.1,2.4,Iris-virginica', '116,6.4,3.2,5.3,2.3,Iris-virginica', '117,6.5,3.0,5.5,1.8,Iris-virginica', '118,7.7,3.8,6.7,2.2,Iris-virginica', '119,7.7,2.6,6.9,2.3,Iris-virginica', '120,6.0,2.2,5.0,1.5,Iris-virginica', '121,6.9,3.2,5.7,2.3,Iris-virginica', '122,5.6,2.8,4.9,2.0,Iris-virginica', '123,7.7,2.8,6.7,2.0,Iris-virginica', '124,6.3,2.7,4.9,1.8,Iris-virginica', '125,6.7,3.3,5.7,2.1,Iris-virginica', '126,7.2,3.2,6.0,1.8,Iris-virginica', '127,6.2,2.8,4.8,1.8,Iris-virginica', '128,6.1,3.0,4.9,1.8,Iris-virginica', '129,6.4,2.8,5.6,2.1,Iris-virginica', '130,7.2,3.0,5.8,1.6,Iris-virginica', '131,7.4,2.8,6.1,1.9,Iris-virginica', '132,7.9,3.8,6.4,2.0,Iris-virginica', '133,6.4,2.8,5.6,2.2,Iris-virginica', '134,6.3,2.8,5.1,1.5,Iris-virginica', '135,6.1,2.6,5.6,1.4,Iris-virginica', '136,7.7,3.0,6.1,2.3,Iris-virginica', '137,6.3,3.4,5.6,2.4,Iris-virginica', '138,6.4,3.1,5.5,1.8,Iris-virginica', '139,6.0,3.0,4.8,1.8,Iris-virginica', '140,6.9,3.1,5.4,2.1,Iris-virginica', '141,6.7,3.1,5.6,2.4,Iris-virginica', '142,6.9,3.1,5.1,2.3,Iris-virginica', '143,5.8,2.7,5.1,1.9,Iris-virginica', '144,6.8,3.2,5.9,2.3,Iris-virginica', '145,6.7,3.3,5.7,2.5,Iris-virginica', '146,6.7,3.0,5.2,2.3,Iris-virginica', '147,6.3,2.5,5.0,1.9,Iris-virginica', '148,6.5,3.0,5.2,2.0,Iris-virginica', '149,6.2,3.4,5.4,2.3,Iris-virginica', '150,5.9,3.0,5.1,1.8,Iris-virginica']\n"
          ]
        }
      ]
    },
    {
      "cell_type": "code",
      "metadata": {
        "id": "vDTFG50XP9Xt",
        "colab": {
          "base_uri": "https://localhost:8080/",
          "height": 46
        },
        "outputId": "d4b4e001-5181-4c07-a725-b41778912cdf"
      },
      "source": [
        "ok.check('e03_4.py')"
      ],
      "execution_count": null,
      "outputs": [
        {
          "output_type": "execute_result",
          "data": {
            "text/plain": [
              "<gofer.ok.OKTestsResult at 0x7f8dec999550>"
            ],
            "text/html": [
              "\n",
              "    \n",
              "    \n",
              "        <p>All tests passed!</p>\n",
              "    \n",
              "    "
            ]
          },
          "metadata": {},
          "execution_count": 49
        }
      ]
    },
    {
      "cell_type": "markdown",
      "metadata": {
        "id": "xjcb4NF-Skxg"
      },
      "source": [
        "# 5 Separação por Vírgulas\n",
        "\n",
        "Crie uma nova lista em uma variável de nome `d2` onde cada elemento dessa lista seja uma sublista contendo as strings correspondentes a cada dado da string original, usando a vírgula como separador.\n",
        "\n",
        "Por exemplo, transforme isso:\n",
        "\n",
        "`'14,4.3,3.0,1.1,0.1,Iris-setosa'`\n",
        "\n",
        "nisso:\n",
        "\n",
        "`['14', '4.3', '3.0', '1.1', '0.1', 'Iris-setosa']`\n",
        "\n",
        "Faça isso para todos elementos, na mesma ordem da lista original, gravando o resultado em `d2`.\n"
      ]
    },
    {
      "cell_type": "code",
      "metadata": {
        "id": "s08w5UV6Tij9"
      },
      "source": [
        "d2 = []\n",
        "for line in d1:\n",
        "  d2.append(line.split(','))"
      ],
      "execution_count": null,
      "outputs": []
    },
    {
      "cell_type": "code",
      "metadata": {
        "id": "7S7f_WeTUN_g",
        "colab": {
          "base_uri": "https://localhost:8080/",
          "height": 46
        },
        "outputId": "b911a6e6-f20d-40fb-c235-2d3ce43ee106"
      },
      "source": [
        "ok.check('e03_5.py')"
      ],
      "execution_count": null,
      "outputs": [
        {
          "output_type": "execute_result",
          "data": {
            "text/plain": [
              "<gofer.ok.OKTestsResult at 0x7f8dec993b50>"
            ],
            "text/html": [
              "\n",
              "    \n",
              "    \n",
              "        <p>All tests passed!</p>\n",
              "    \n",
              "    "
            ]
          },
          "metadata": {},
          "execution_count": 51
        }
      ]
    },
    {
      "cell_type": "markdown",
      "metadata": {
        "id": "bczh-ZCWVNyX"
      },
      "source": [
        "# 6 Entradas de Treinamento\n",
        "\n",
        "Crie uma matriz no formato `array` do NumPy, numa variável de nome `d3`, contendo todos os dados da segunda, terceira, quarta e quinta colunas de `d2` transformados para o formato ponto flutuante (convertendo de string para número). Não inclua nem a primeira coluna (que é o id), nem a última coluna nessa conversão. Essa será a matriz de entradas."
      ]
    },
    {
      "cell_type": "code",
      "metadata": {
        "id": "18CrGLTJVMlG",
        "outputId": "163c30b6-5824-433a-eddb-e1c154be78df",
        "colab": {
          "base_uri": "https://localhost:8080/",
          "height": 245
        }
      },
      "source": [
        "import numpy as np\n",
        "\n",
        "d3 = []\n",
        "d4 = []\n",
        "\n",
        "cat = np.array(['Iris-setosa', 'Iris-versicolor', 'Iris-virginica'])\n",
        "\n",
        "for line in d2:\n",
        "  arr = line[1:]\n",
        "  sl = float(arr[0])\n",
        "  sw = float(arr[1])\n",
        "  pl = float(arr[2])\n",
        "  pw = float(arr[3]) \n",
        "  sp = arr[4]\n",
        "  d4.append((sp == cat).astype('float'))\n",
        "  d3.append([sl, sw, pl, pw])\n",
        "\n",
        "d3 = np.array(d3)\n",
        "d4 = np.array(d4)"
      ],
      "execution_count": null,
      "outputs": [
        {
          "output_type": "error",
          "ename": "NameError",
          "evalue": "ignored",
          "traceback": [
            "\u001b[0;31m---------------------------------------------------------------------------\u001b[0m",
            "\u001b[0;31mNameError\u001b[0m                                 Traceback (most recent call last)",
            "\u001b[0;32m<ipython-input-1-76e56137761c>\u001b[0m in \u001b[0;36m<module>\u001b[0;34m\u001b[0m\n\u001b[1;32m      6\u001b[0m \u001b[0mcat\u001b[0m \u001b[0;34m=\u001b[0m \u001b[0mnp\u001b[0m\u001b[0;34m.\u001b[0m\u001b[0marray\u001b[0m\u001b[0;34m(\u001b[0m\u001b[0;34m[\u001b[0m\u001b[0;34m'Iris-setosa'\u001b[0m\u001b[0;34m,\u001b[0m \u001b[0;34m'Iris-versicolor'\u001b[0m\u001b[0;34m,\u001b[0m \u001b[0;34m'Iris-virginica'\u001b[0m\u001b[0;34m]\u001b[0m\u001b[0;34m)\u001b[0m\u001b[0;34m\u001b[0m\u001b[0;34m\u001b[0m\u001b[0m\n\u001b[1;32m      7\u001b[0m \u001b[0;34m\u001b[0m\u001b[0m\n\u001b[0;32m----> 8\u001b[0;31m \u001b[0;32mfor\u001b[0m \u001b[0mline\u001b[0m \u001b[0;32min\u001b[0m \u001b[0md2\u001b[0m\u001b[0;34m:\u001b[0m\u001b[0;34m\u001b[0m\u001b[0;34m\u001b[0m\u001b[0m\n\u001b[0m\u001b[1;32m      9\u001b[0m   \u001b[0marr\u001b[0m \u001b[0;34m=\u001b[0m \u001b[0mline\u001b[0m\u001b[0;34m[\u001b[0m\u001b[0;36m1\u001b[0m\u001b[0;34m:\u001b[0m\u001b[0;34m]\u001b[0m\u001b[0;34m\u001b[0m\u001b[0;34m\u001b[0m\u001b[0m\n\u001b[1;32m     10\u001b[0m   \u001b[0msl\u001b[0m \u001b[0;34m=\u001b[0m \u001b[0mfloat\u001b[0m\u001b[0;34m(\u001b[0m\u001b[0marr\u001b[0m\u001b[0;34m[\u001b[0m\u001b[0;36m0\u001b[0m\u001b[0;34m]\u001b[0m\u001b[0;34m)\u001b[0m\u001b[0;34m\u001b[0m\u001b[0;34m\u001b[0m\u001b[0m\n",
            "\u001b[0;31mNameError\u001b[0m: name 'd2' is not defined"
          ]
        }
      ]
    },
    {
      "cell_type": "code",
      "metadata": {
        "id": "SZDaonjRW_Yk",
        "colab": {
          "base_uri": "https://localhost:8080/",
          "height": 46
        },
        "outputId": "07e29eb9-c774-4f5c-d0f4-86738004a05a"
      },
      "source": [
        "ok.check('e03_6.py')"
      ],
      "execution_count": null,
      "outputs": [
        {
          "output_type": "execute_result",
          "data": {
            "text/plain": [
              "<gofer.ok.OKTestsResult at 0x7f8dec964ad0>"
            ],
            "text/html": [
              "\n",
              "    \n",
              "    \n",
              "        <p>All tests passed!</p>\n",
              "    \n",
              "    "
            ]
          },
          "metadata": {},
          "execution_count": 53
        }
      ]
    },
    {
      "cell_type": "markdown",
      "metadata": {
        "id": "4RPaGiqvX2R7"
      },
      "source": [
        "# 7 Saídas Desejadas\n",
        "\n",
        "Crie um `array` do NumPy para as saídas desejadas, no formado _one-hot_. Para isso utilize as strings da última coluna de `d2`, verificando qual espécie de planta se refere cada string:\n",
        "\n",
        " `'Iris-setosa'` $\\rightarrow$ `[1.0, 0.0, 0.0]`\n",
        " \n",
        " `'Iris-versicolor'` $\\rightarrow$ `[0.0, 1.0, 0.0]`\n",
        "\n",
        " `'Iris-virginica'` $\\rightarrow$ `[0.0, 0.0, 1.0]`\n",
        "\n",
        " Grave o resultado em um `array` do NumPy de nome `d4`, com o mesmo número de linhas de `d3`, onde cada linha de `d4` corresponde ao vetor _one-hot_ da saída desejada da respectiva linha de entradas de `d4`."
      ]
    },
    {
      "cell_type": "code",
      "metadata": {
        "id": "BOUZLeZaY2cr",
        "colab": {
          "base_uri": "https://localhost:8080/"
        },
        "outputId": "bebc01f7-4d9c-4de8-ca0a-1dbc1992c1ed"
      },
      "source": [
        "print(d4)\n"
      ],
      "execution_count": null,
      "outputs": [
        {
          "output_type": "stream",
          "name": "stdout",
          "text": [
            "[[1. 0. 0.]\n",
            " [1. 0. 0.]\n",
            " [1. 0. 0.]\n",
            " [1. 0. 0.]\n",
            " [1. 0. 0.]\n",
            " [1. 0. 0.]\n",
            " [1. 0. 0.]\n",
            " [1. 0. 0.]\n",
            " [1. 0. 0.]\n",
            " [1. 0. 0.]\n",
            " [1. 0. 0.]\n",
            " [1. 0. 0.]\n",
            " [1. 0. 0.]\n",
            " [1. 0. 0.]\n",
            " [1. 0. 0.]\n",
            " [1. 0. 0.]\n",
            " [1. 0. 0.]\n",
            " [1. 0. 0.]\n",
            " [1. 0. 0.]\n",
            " [1. 0. 0.]\n",
            " [1. 0. 0.]\n",
            " [1. 0. 0.]\n",
            " [1. 0. 0.]\n",
            " [1. 0. 0.]\n",
            " [1. 0. 0.]\n",
            " [1. 0. 0.]\n",
            " [1. 0. 0.]\n",
            " [1. 0. 0.]\n",
            " [1. 0. 0.]\n",
            " [1. 0. 0.]\n",
            " [1. 0. 0.]\n",
            " [1. 0. 0.]\n",
            " [1. 0. 0.]\n",
            " [1. 0. 0.]\n",
            " [1. 0. 0.]\n",
            " [1. 0. 0.]\n",
            " [1. 0. 0.]\n",
            " [1. 0. 0.]\n",
            " [1. 0. 0.]\n",
            " [1. 0. 0.]\n",
            " [1. 0. 0.]\n",
            " [1. 0. 0.]\n",
            " [1. 0. 0.]\n",
            " [1. 0. 0.]\n",
            " [1. 0. 0.]\n",
            " [1. 0. 0.]\n",
            " [1. 0. 0.]\n",
            " [1. 0. 0.]\n",
            " [1. 0. 0.]\n",
            " [1. 0. 0.]\n",
            " [0. 1. 0.]\n",
            " [0. 1. 0.]\n",
            " [0. 1. 0.]\n",
            " [0. 1. 0.]\n",
            " [0. 1. 0.]\n",
            " [0. 1. 0.]\n",
            " [0. 1. 0.]\n",
            " [0. 1. 0.]\n",
            " [0. 1. 0.]\n",
            " [0. 1. 0.]\n",
            " [0. 1. 0.]\n",
            " [0. 1. 0.]\n",
            " [0. 1. 0.]\n",
            " [0. 1. 0.]\n",
            " [0. 1. 0.]\n",
            " [0. 1. 0.]\n",
            " [0. 1. 0.]\n",
            " [0. 1. 0.]\n",
            " [0. 1. 0.]\n",
            " [0. 1. 0.]\n",
            " [0. 1. 0.]\n",
            " [0. 1. 0.]\n",
            " [0. 1. 0.]\n",
            " [0. 1. 0.]\n",
            " [0. 1. 0.]\n",
            " [0. 1. 0.]\n",
            " [0. 1. 0.]\n",
            " [0. 1. 0.]\n",
            " [0. 1. 0.]\n",
            " [0. 1. 0.]\n",
            " [0. 1. 0.]\n",
            " [0. 1. 0.]\n",
            " [0. 1. 0.]\n",
            " [0. 1. 0.]\n",
            " [0. 1. 0.]\n",
            " [0. 1. 0.]\n",
            " [0. 1. 0.]\n",
            " [0. 1. 0.]\n",
            " [0. 1. 0.]\n",
            " [0. 1. 0.]\n",
            " [0. 1. 0.]\n",
            " [0. 1. 0.]\n",
            " [0. 1. 0.]\n",
            " [0. 1. 0.]\n",
            " [0. 1. 0.]\n",
            " [0. 1. 0.]\n",
            " [0. 1. 0.]\n",
            " [0. 1. 0.]\n",
            " [0. 1. 0.]\n",
            " [0. 1. 0.]\n",
            " [0. 0. 1.]\n",
            " [0. 0. 1.]\n",
            " [0. 0. 1.]\n",
            " [0. 0. 1.]\n",
            " [0. 0. 1.]\n",
            " [0. 0. 1.]\n",
            " [0. 0. 1.]\n",
            " [0. 0. 1.]\n",
            " [0. 0. 1.]\n",
            " [0. 0. 1.]\n",
            " [0. 0. 1.]\n",
            " [0. 0. 1.]\n",
            " [0. 0. 1.]\n",
            " [0. 0. 1.]\n",
            " [0. 0. 1.]\n",
            " [0. 0. 1.]\n",
            " [0. 0. 1.]\n",
            " [0. 0. 1.]\n",
            " [0. 0. 1.]\n",
            " [0. 0. 1.]\n",
            " [0. 0. 1.]\n",
            " [0. 0. 1.]\n",
            " [0. 0. 1.]\n",
            " [0. 0. 1.]\n",
            " [0. 0. 1.]\n",
            " [0. 0. 1.]\n",
            " [0. 0. 1.]\n",
            " [0. 0. 1.]\n",
            " [0. 0. 1.]\n",
            " [0. 0. 1.]\n",
            " [0. 0. 1.]\n",
            " [0. 0. 1.]\n",
            " [0. 0. 1.]\n",
            " [0. 0. 1.]\n",
            " [0. 0. 1.]\n",
            " [0. 0. 1.]\n",
            " [0. 0. 1.]\n",
            " [0. 0. 1.]\n",
            " [0. 0. 1.]\n",
            " [0. 0. 1.]\n",
            " [0. 0. 1.]\n",
            " [0. 0. 1.]\n",
            " [0. 0. 1.]\n",
            " [0. 0. 1.]\n",
            " [0. 0. 1.]\n",
            " [0. 0. 1.]\n",
            " [0. 0. 1.]\n",
            " [0. 0. 1.]\n",
            " [0. 0. 1.]\n",
            " [0. 0. 1.]]\n"
          ]
        }
      ]
    },
    {
      "cell_type": "code",
      "metadata": {
        "id": "jwvATLI4cKue",
        "colab": {
          "base_uri": "https://localhost:8080/",
          "height": 46
        },
        "outputId": "8e2d5981-0d26-4ffc-ed93-bd7bffb74791"
      },
      "source": [
        "ok.check('e03_7.py')"
      ],
      "execution_count": null,
      "outputs": [
        {
          "output_type": "execute_result",
          "data": {
            "text/plain": [
              "<gofer.ok.OKTestsResult at 0x7f8deca702d0>"
            ],
            "text/html": [
              "\n",
              "    \n",
              "    \n",
              "        <p>All tests passed!</p>\n",
              "    \n",
              "    "
            ]
          },
          "metadata": {},
          "execution_count": 55
        }
      ]
    },
    {
      "cell_type": "markdown",
      "metadata": {
        "id": "M2hG7fHQccol"
      },
      "source": [
        "# 8 Normalização das Entradas\n",
        "\n",
        "Encontre o valor máximo e mínimo para cada uma das quatro colunas da matriz de entradas. Normalize os valores das entradas no intervalo entre zero e um, salvando o resultado em um `array` do NumPy de nome `d5`."
      ]
    },
    {
      "cell_type": "code",
      "metadata": {
        "id": "6LJLMP4GdNaB"
      },
      "source": [
        "def normalize(col):\n",
        "  min = np.min(col)\n",
        "  max = np.max(col)\n",
        "  return (col-min)/(max-min)\n",
        "\n",
        "d5 = np.apply_along_axis(normalize, 0, d3)"
      ],
      "execution_count": null,
      "outputs": []
    },
    {
      "cell_type": "code",
      "metadata": {
        "id": "2Y3LHDt9e4C_",
        "colab": {
          "base_uri": "https://localhost:8080/",
          "height": 46
        },
        "outputId": "227dcb3a-9f89-4aa9-d506-35c97ce20d24"
      },
      "source": [
        "ok.check('e03_8.py')"
      ],
      "execution_count": null,
      "outputs": [
        {
          "output_type": "execute_result",
          "data": {
            "text/plain": [
              "<gofer.ok.OKTestsResult at 0x7f8dec964790>"
            ],
            "text/html": [
              "\n",
              "    \n",
              "    \n",
              "        <p>All tests passed!</p>\n",
              "    \n",
              "    "
            ]
          },
          "metadata": {},
          "execution_count": 57
        }
      ]
    },
    {
      "cell_type": "markdown",
      "metadata": {
        "id": "2JMfjj63gdsZ"
      },
      "source": [
        "# 9 Embaralhamento dos Dados\n",
        "\n",
        "Misture as linhas dos dados dos valores de entradas de treinamento contidos em `d5` de forma aleatória. Faça o mesmo com as linhas das saídas desejadas em `d4`, de forma a manter a correspondência entre ambos. Chame a `array` resultante de dados de treinamento embaralhado de `x` e a `array` correspondente de saídas desejadas de `y`."
      ]
    },
    {
      "cell_type": "code",
      "metadata": {
        "id": "EURRUvx5bn8H"
      },
      "source": [
        "from sklearn import utils\n",
        "\n",
        "utils.shuffle(d4, d5)\n",
        "\n",
        "x = d5\n",
        "y = d4"
      ],
      "execution_count": null,
      "outputs": []
    },
    {
      "cell_type": "code",
      "metadata": {
        "id": "g1OinS58n2eV",
        "colab": {
          "base_uri": "https://localhost:8080/",
          "height": 46
        },
        "outputId": "0100bfe3-71e9-4a3a-c82d-8750be44e825"
      },
      "source": [
        "ok.check('e03_9.py')"
      ],
      "execution_count": null,
      "outputs": [
        {
          "output_type": "execute_result",
          "data": {
            "text/plain": [
              "<gofer.ok.OKTestsResult at 0x7f8dec964250>"
            ],
            "text/html": [
              "\n",
              "    \n",
              "    \n",
              "        <p>All tests passed!</p>\n",
              "    \n",
              "    "
            ]
          },
          "metadata": {},
          "execution_count": 59
        }
      ]
    },
    {
      "cell_type": "markdown",
      "metadata": {
        "id": "g7RxpU4CoscS"
      },
      "source": [
        "# 10 Separação de Dados de Treinamento e Validação\n",
        "\n",
        "Separe os pares de dados de treinamento e validação nas proporções 90%/10%, respectivamente. Chame a entrada e saída desejada dos pares de treinamento de `x_train` e `y_train`, e use os nomes `x_test` e `y_test` para os dados de validação. Os dados de validação devem corresponder às linhas finais dos pares de `array` originais `x` e `y`."
      ]
    },
    {
      "cell_type": "code",
      "metadata": {
        "id": "cKtuZjXfphhe"
      },
      "source": [
        "total = len(x) # total = 150\n",
        "part = int(total * 0.9) # part = 135\n",
        "\n",
        "#treino 90%\n",
        "x_train = x[0:part]\n",
        "y_train = y[0:part]\n",
        "\n",
        "#teste/validação 10%\n",
        "x_test = x[part:]\n",
        "y_test = y[part:]"
      ],
      "execution_count": null,
      "outputs": []
    },
    {
      "cell_type": "code",
      "metadata": {
        "id": "jLfamQPqpu3w",
        "colab": {
          "base_uri": "https://localhost:8080/",
          "height": 46
        },
        "outputId": "d58d6fa7-b576-47e8-e5b7-2716e1a716b7"
      },
      "source": [
        "ok.check('e03_10.py')"
      ],
      "execution_count": null,
      "outputs": [
        {
          "output_type": "execute_result",
          "data": {
            "text/plain": [
              "<gofer.ok.OKTestsResult at 0x7f8dec989ed0>"
            ],
            "text/html": [
              "\n",
              "    \n",
              "    \n",
              "        <p>All tests passed!</p>\n",
              "    \n",
              "    "
            ]
          },
          "metadata": {},
          "execution_count": 66
        }
      ]
    }
  ]
}